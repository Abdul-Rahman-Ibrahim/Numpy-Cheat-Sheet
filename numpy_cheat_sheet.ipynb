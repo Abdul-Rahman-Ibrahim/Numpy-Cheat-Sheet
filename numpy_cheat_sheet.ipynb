{
 "cells": [
  {
   "cell_type": "code",
   "execution_count": 2,
   "id": "6702bf61",
   "metadata": {},
   "outputs": [],
   "source": [
    "import numpy as np"
   ]
  },
  {
   "cell_type": "markdown",
   "id": "173eaad4",
   "metadata": {},
   "source": [
    "# NUMPY"
   ]
  },
  {
   "cell_type": "markdown",
   "id": "4005afcc",
   "metadata": {},
   "source": [
    "## The NumPy ndarray: A Multidimensional Array Object"
   ]
  },
  {
   "cell_type": "code",
   "execution_count": 167,
   "id": "1d58f66b",
   "metadata": {},
   "outputs": [
    {
     "data": {
      "text/plain": [
       "array([0, 1, 2, 3, 4, 5, 6, 7, 8, 9])"
      ]
     },
     "execution_count": 167,
     "metadata": {},
     "output_type": "execute_result"
    }
   ],
   "source": [
    "np.arange(10) #1D list ranging from 0 to 9"
   ]
  },
  {
   "cell_type": "code",
   "execution_count": 182,
   "id": "9df9ee4f",
   "metadata": {
    "scrolled": true
   },
   "outputs": [
    {
     "name": "stdout",
     "output_type": "stream",
     "text": [
      "Data:\n",
      " [[ 0.86449148 -1.49420188]\n",
      " [ 0.67218771  0.72339072]\n",
      " [-0.52500236  0.27771571]]\n",
      "\n",
      "\n",
      "Shape: (3, 2)\n",
      "Size: 6\n",
      "Data type: float64\n"
     ]
    }
   ],
   "source": [
    "#generating random data in arrays\n",
    "data = np.random.randn(3,2) #2D array\n",
    "print(\"Data:\\n\", data)\n",
    "print(\"\\n\")\n",
    "print(\"Shape:\", data.shape) #shape of the array\n",
    "print(\"Size:\", data.size) #number of elements in array.\n",
    "print(\"Data type:\", data.dtype)"
   ]
  },
  {
   "cell_type": "markdown",
   "id": "5d6267f1",
   "metadata": {},
   "source": [
    "## Creating ndarrays"
   ]
  },
  {
   "cell_type": "code",
   "execution_count": 186,
   "id": "74b787df",
   "metadata": {
    "scrolled": false
   },
   "outputs": [
    {
     "name": "stdout",
     "output_type": "stream",
     "text": [
      "[6.  7.5 8.  0.  1. ]\n",
      "Dimension: 1\n",
      "Data type float64\n"
     ]
    }
   ],
   "source": [
    "data1 = [6,7.5,8,0,1]\n",
    "arr1 = np.array(data1)\n",
    "print(arr1)\n",
    "print(\"Dimension:\", arr1.ndim)\n",
    "print(\"Data type\", arr1.dtype)"
   ]
  },
  {
   "cell_type": "code",
   "execution_count": 189,
   "id": "2244214c",
   "metadata": {},
   "outputs": [
    {
     "name": "stdout",
     "output_type": "stream",
     "text": [
      "[[1 2 3]\n",
      " [4 5 6]]\n",
      "Dimension: 2\n",
      "Data type: int64\n"
     ]
    }
   ],
   "source": [
    "data2 = [[1,2,3],[4,5,6]]\n",
    "arr2 = np.array(data2, dtype=\"int64\") #creating an 2D array with data type int64\n",
    "print(arr2)\n",
    "print(\"Dimension:\", arr2.ndim)\n",
    "print(\"Data type:\", arr2.dtype)"
   ]
  },
  {
   "cell_type": "code",
   "execution_count": 207,
   "id": "b264001b",
   "metadata": {
    "scrolled": true
   },
   "outputs": [
    {
     "name": "stdout",
     "output_type": "stream",
     "text": [
      "Array of zeros: [0. 0. 0. 0. 0. 0. 0. 0. 0. 0.]\n",
      "\n",
      "\n",
      "Array of ones:\n",
      " [[1. 1. 1. 1. 1.]\n",
      " [1. 1. 1. 1. 1.]\n",
      " [1. 1. 1. 1. 1.]\n",
      " [1. 1. 1. 1. 1.]\n",
      " [1. 1. 1. 1. 1.]]\n",
      "\n",
      "\n",
      "Uninitialized array of garbage:\n",
      " [[[6.23042070e-307 4.67296746e-307 1.69121096e-306]\n",
      "  [8.90096090e-307 4.00528573e-307 7.56599128e-307]\n",
      "  [1.11256817e-306 1.06811422e-306 1.42417221e-306]]\n",
      "\n",
      " [[1.11260619e-306 8.90094053e-307 1.86919378e-306]\n",
      "  [1.06809792e-306 1.37962456e-306 1.69111861e-306]\n",
      "  [1.78020169e-306 1.37961777e-306 7.56599807e-307]]]\n",
      "\n",
      "\n",
      "Array full of 10's:\n",
      " [[10 10 10]\n",
      " [10 10 10]\n",
      " [10 10 10]]\n",
      "\n",
      "\n",
      "5X5 quare identity matrix:\n",
      " [[1. 0. 0. 0. 0.]\n",
      " [0. 1. 0. 0. 0.]\n",
      " [0. 0. 1. 0. 0.]\n",
      " [0. 0. 0. 1. 0.]\n",
      " [0. 0. 0. 0. 1.]]\n"
     ]
    }
   ],
   "source": [
    "print(\"Array of zeros:\", np.zeros(10)) #1D array\n",
    "print(\"\\n\")\n",
    "print(\"Array of ones:\\n\", np.ones((5,5))) #2D array\n",
    "print(\"\\n\")\n",
    "print(\"Uninitialized array of garbage:\\n\", np.empty((2,3,3))) #3D array\n",
    "print(\"\\n\")\n",
    "print(\"Array full of 10's:\\n\", np.full((3,3),10))\n",
    "print(\"\\n\")\n",
    "print(\"5X5 quare identity matrix:\\n\", np.identity(5)) #eye could also be used intead of identity"
   ]
  },
  {
   "cell_type": "markdown",
   "id": "16738ca4",
   "metadata": {},
   "source": [
    "## Data types conversion"
   ]
  },
  {
   "cell_type": "code",
   "execution_count": 211,
   "id": "da1c0e00",
   "metadata": {},
   "outputs": [
    {
     "name": "stdout",
     "output_type": "stream",
     "text": [
      "Original data type of array: int32\n",
      "New data type of array: float64\n"
     ]
    }
   ],
   "source": [
    "arr = np.array([2,4,5,6])\n",
    "print(\"Original data type of array:\", arr.dtype)\n",
    "arr_float = arr.astype(\"float64\") #convert to float64 data type\n",
    "print(\"New data type of array:\", arr_float.dtype)"
   ]
  },
  {
   "cell_type": "markdown",
   "id": "d76e1362",
   "metadata": {},
   "source": [
    "## Arithmetic with NumPy Arrays"
   ]
  },
  {
   "cell_type": "code",
   "execution_count": 214,
   "id": "52499628",
   "metadata": {
    "scrolled": true
   },
   "outputs": [
    {
     "name": "stdout",
     "output_type": "stream",
     "text": [
      "Element-wise multiplication:\n",
      " [[ 1  4  9]\n",
      " [16 25 36]]\n",
      "\n",
      "\n",
      "Element-wise addition:\n",
      " [[ 2  4  6]\n",
      " [ 8 10 12]]\n"
     ]
    }
   ],
   "source": [
    "arr = np.array([[1,2,3],[4,5,6]])\n",
    "print(\"Element-wise multiplication:\\n\", arr*arr)\n",
    "print(\"\\n\")\n",
    "print(\"Element-wise addition:\\n\", arr+arr) #equals to arr*2"
   ]
  },
  {
   "cell_type": "code",
   "execution_count": 228,
   "id": "fdb393e8",
   "metadata": {
    "scrolled": true
   },
   "outputs": [
    {
     "name": "stdout",
     "output_type": "stream",
     "text": [
      "arr1>arr2:\n",
      " [False  True False False]\n",
      "\n",
      "\n",
      "arr1<arr2:\n",
      " [ True False  True  True]\n",
      "\n",
      "\n",
      "arr1=arr2:\n",
      " [False False False False]\n"
     ]
    }
   ],
   "source": [
    "#array comparisons\n",
    "arr1 = np.random.randint(1,4, size=4) #'size' is optional\n",
    "arr2 = np.random.randint(1,4, 4)\n",
    "print(\"arr1>arr2:\\n\", arr1>arr2)\n",
    "print(\"\\n\")\n",
    "print(\"arr1<arr2:\\n\", arr1<arr2)\n",
    "print(\"\\n\")\n",
    "print(\"arr1=arr2:\\n\", arr1==arr2)"
   ]
  },
  {
   "cell_type": "markdown",
   "id": "a44e739e",
   "metadata": {},
   "source": [
    "## Basic Indexing and Slicing"
   ]
  },
  {
   "cell_type": "code",
   "execution_count": 233,
   "id": "09811ba6",
   "metadata": {
    "scrolled": true
   },
   "outputs": [
    {
     "name": "stdout",
     "output_type": "stream",
     "text": [
      "Original array:\n",
      " [0 1 2 3 4 5 6 7 8 9]\n",
      "Sliced array:\n",
      " [5 6 7]\n",
      "Original array:\n",
      " [   0    1    2    3    4    5 1234    7    8    9]\n"
     ]
    }
   ],
   "source": [
    "arr = np.arange(10)\n",
    "print(\"Original array:\\n\", arr)\n",
    "arr_slice = arr[5:8]\n",
    "print(\"Sliced array:\\n\", arr_slice)\n",
    "arr_slice[1] = 1234\n",
    "print(\"Original array:\\n\", arr)"
   ]
  },
  {
   "cell_type": "code",
   "execution_count": 237,
   "id": "350f9680",
   "metadata": {
    "scrolled": true
   },
   "outputs": [
    {
     "name": "stdout",
     "output_type": "stream",
     "text": [
      "Original array:\n",
      " [[3 0 6 3]\n",
      " [6 9 8 6]\n",
      " [2 5 2 4]\n",
      " [8 7 8 5]]\n",
      "\n",
      "\n",
      "Slice:\n",
      " [[9 8]\n",
      " [5 2]]\n",
      "\n",
      "\n",
      "Slice:\n",
      " [[9 8]\n",
      " [5 2]]\n",
      "\n",
      "\n"
     ]
    }
   ],
   "source": [
    "arr = np.random.randint(0,10, (4,4))\n",
    "print(\"Original array:\\n\", arr)\n",
    "print(\"\\n\")\n",
    "print(\"Slice:\\n\", arr[1:3,1:3])\n",
    "print(\"\\n\")\n",
    "print(\"Slice:\\n\", arr[-3:-1,1:3])\n",
    "print(\"\\n\")"
   ]
  },
  {
   "cell_type": "code",
   "execution_count": 243,
   "id": "d60bd688",
   "metadata": {},
   "outputs": [
    {
     "data": {
      "text/plain": [
       "array([[  3,   0, -99, -99],\n",
       "       [  6,   9,   8,   6],\n",
       "       [  2,   5, -99, -99],\n",
       "       [  8,   7,   8,   5]])"
      ]
     },
     "execution_count": 243,
     "metadata": {},
     "output_type": "execute_result"
    }
   ],
   "source": [
    "#slice assignment\n",
    "arr[::2, 2:4] = -99\n",
    "arr"
   ]
  },
  {
   "cell_type": "markdown",
   "id": "6efb978b",
   "metadata": {},
   "source": [
    "## Boolean Indexing\n"
   ]
  },
  {
   "cell_type": "code",
   "execution_count": 254,
   "id": "652dbfe1",
   "metadata": {
    "scrolled": true
   },
   "outputs": [
    {
     "name": "stdout",
     "output_type": "stream",
     "text": [
      "Names:\n",
      " ['Yaw' 'Joe' 'Kusi' 'Tumi' 'Yaw' 'Momo']\n",
      "\n",
      "\n",
      "Data:\n",
      " [[ 1.56218761 -0.75611162 -1.51774368 -1.77611609]\n",
      " [ 1.01209129 -0.26265479 -0.35389469 -0.67139901]\n",
      " [ 0.17433823 -1.85119515 -0.31622463 -0.7844617 ]\n",
      " [ 1.92182104  1.50254165 -1.13000455  0.50497028]\n",
      " [-1.34861423  1.91436841  1.16346897  0.38390086]\n",
      " [ 0.43530183 -0.51723945  1.20291674  0.45423521]]\n",
      "\n",
      "\n",
      "Sliced data:\n",
      " [[ 1.56218761 -0.75611162 -1.51774368 -1.77611609]\n",
      " [-1.34861423  1.91436841  1.16346897  0.38390086]]\n",
      "\n",
      "\n",
      "Sliced data:\n",
      " [[-1.51774368 -1.77611609]\n",
      " [ 1.16346897  0.38390086]]\n",
      "\n",
      "\n",
      "Sliced data:\n",
      " [[ 1.01209129 -0.26265479 -0.35389469 -0.67139901]\n",
      " [ 0.17433823 -1.85119515 -0.31622463 -0.7844617 ]\n",
      " [ 1.92182104  1.50254165 -1.13000455  0.50497028]\n",
      " [ 0.43530183 -0.51723945  1.20291674  0.45423521]]\n"
     ]
    }
   ],
   "source": [
    "names = np.array([\"Yaw\",\"Joe\",\"Kusi\", \"Tumi\",\"Yaw\",\"Momo\"])\n",
    "print(\"Names:\\n\", names)\n",
    "print(\"\\n\")\n",
    "data = np.random.randn(6,4)\n",
    "print(\"Data:\\n\", data)\n",
    "print(\"\\n\")\n",
    "print(\"Sliced data:\\n\", data[names==\"Yaw\"])\n",
    "print(\"\\n\")\n",
    "print(\"Sliced data:\\n\", data[names==\"Yaw\",2:])\n",
    "#slicing everything but Yaw\n",
    "print(\"\\n\")\n",
    "print(\"Sliced data:\\n\", data[~(names==\"Yaw\")]) #data[names!=\"Yaw\"] could also be used"
   ]
  },
  {
   "cell_type": "code",
   "execution_count": 258,
   "id": "a031a5b3",
   "metadata": {
    "scrolled": true
   },
   "outputs": [
    {
     "name": "stdout",
     "output_type": "stream",
     "text": [
      "Mask:\n",
      " [ True False False False  True  True]\n",
      "\n",
      "\n",
      "Sliced data:\n",
      " [[ 1.56218761 -0.75611162 -1.51774368 -1.77611609]\n",
      " [-1.34861423  1.91436841  1.16346897  0.38390086]\n",
      " [ 0.43530183 -0.51723945  1.20291674  0.45423521]]\n"
     ]
    }
   ],
   "source": [
    "#multiple boolean indexing with |(or) and &(and)\n",
    "mask = (names==\"Yaw\") | (names==\"Momo\")\n",
    "print(\"Mask:\\n\", mask)\n",
    "print(\"\\n\")\n",
    "print(\"Sliced data:\\n\", data[mask])"
   ]
  },
  {
   "cell_type": "code",
   "execution_count": 260,
   "id": "4d052a76",
   "metadata": {
    "scrolled": true
   },
   "outputs": [
    {
     "name": "stdout",
     "output_type": "stream",
     "text": [
      "New data:\n",
      " [[1.56218761 0.         0.         0.        ]\n",
      " [1.01209129 0.         0.         0.        ]\n",
      " [0.17433823 0.         0.         0.        ]\n",
      " [1.92182104 1.50254165 0.         0.50497028]\n",
      " [0.         1.91436841 1.16346897 0.38390086]\n",
      " [0.43530183 0.         1.20291674 0.45423521]]\n",
      "\n",
      "\n",
      "New data:\n",
      " [[1.56218761 0.         0.         0.        ]\n",
      " [7.         7.         7.         7.        ]\n",
      " [7.         7.         7.         7.        ]\n",
      " [7.         7.         7.         7.        ]\n",
      " [0.         1.91436841 1.16346897 0.38390086]\n",
      " [7.         7.         7.         7.        ]]\n"
     ]
    }
   ],
   "source": [
    "#setting data values\n",
    "data[data<0] = 0\n",
    "print(\"New data:\\n\", data)\n",
    "print(\"\\n\")\n",
    "data[names !=\"Yaw\"] = 7\n",
    "print(\"New data:\\n\",data)"
   ]
  },
  {
   "cell_type": "markdown",
   "id": "55109855",
   "metadata": {},
   "source": [
    "## Fancy indexing"
   ]
  },
  {
   "cell_type": "code",
   "execution_count": 267,
   "id": "3777e4cd",
   "metadata": {
    "scrolled": true
   },
   "outputs": [
    {
     "name": "stdout",
     "output_type": "stream",
     "text": [
      "Array:\n",
      " [[0. 0. 0. 0.]\n",
      " [1. 1. 1. 1.]\n",
      " [2. 2. 2. 2.]\n",
      " [3. 3. 3. 3.]\n",
      " [4. 4. 4. 4.]\n",
      " [5. 5. 5. 5.]\n",
      " [6. 6. 6. 6.]\n",
      " [7. 7. 7. 7.]]\n",
      "\n",
      "\n",
      "Subset of array:\n",
      " [[4. 4. 4. 4.]\n",
      " [3. 3. 3. 3.]\n",
      " [6. 6. 6. 6.]]\n",
      "\n",
      "\n",
      "Subset of array:\n",
      " [[4. 4. 4. 4.]\n",
      " [5. 5. 5. 5.]\n",
      " [2. 2. 2. 2.]]\n",
      "\n",
      "\n",
      "Subset of arry:\n",
      " [1. 3. 5.]\n"
     ]
    }
   ],
   "source": [
    "arr = np.empty((8,4))\n",
    "for i in range(len(arr)):\n",
    "    arr[i] = i\n",
    "print(\"Array:\\n\", arr)\n",
    "print(\"\\n\")\n",
    "print(\"Subset of array:\\n\", arr[[4,3,6]]) #positive indices\n",
    "print(\"\\n\")\n",
    "print(\"Subset of array:\\n\", arr[[-4,-3,-6]]) #negative indices\n",
    "print(\"\\n\")\n",
    "print(\"Subset of arry:\\n\", arr[[1,3,5],[0,1,2]]) #passing multiple index array"
   ]
  },
  {
   "cell_type": "markdown",
   "id": "5d5a73ad",
   "metadata": {},
   "source": [
    "## Transposing Arrays and Swapping Axes"
   ]
  },
  {
   "cell_type": "code",
   "execution_count": 6,
   "id": "0a3d3572",
   "metadata": {
    "scrolled": true
   },
   "outputs": [
    {
     "name": "stdout",
     "output_type": "stream",
     "text": [
      "Array:\n",
      " [[ 0  1  2  3]\n",
      " [ 4  5  6  7]\n",
      " [ 8  9 10 11]\n",
      " [12 13 14 15]]\n",
      "\n",
      "\n",
      "Transpose array:\n",
      " [[ 0  4  8 12]\n",
      " [ 1  5  9 13]\n",
      " [ 2  6 10 14]\n",
      " [ 3  7 11 15]]\n"
     ]
    }
   ],
   "source": [
    "arr = np.arange(16).reshape(4,4)\n",
    "print(\"Array:\\n\", arr)\n",
    "print(\"\\n\")\n",
    "print(\"Transpose array:\\n\", arr.T)"
   ]
  },
  {
   "cell_type": "markdown",
   "id": "4b362b9f",
   "metadata": {},
   "source": [
    "## Universal Functions: Fast Element-Wise Array Functions"
   ]
  },
  {
   "cell_type": "code",
   "execution_count": 8,
   "id": "b95009a5",
   "metadata": {
    "scrolled": true
   },
   "outputs": [
    {
     "name": "stdout",
     "output_type": "stream",
     "text": [
      "[0.         1.         1.41421356 1.73205081 2.         2.23606798\n",
      " 2.44948974 2.64575131 2.82842712 3.        ]\n",
      "[1.00000000e+00 2.71828183e+00 7.38905610e+00 2.00855369e+01\n",
      " 5.45981500e+01 1.48413159e+02 4.03428793e+02 1.09663316e+03\n",
      " 2.98095799e+03 8.10308393e+03]\n"
     ]
    }
   ],
   "source": [
    "arr = np.arange(10)\n",
    "print(np.sqrt(arr)) #square root of array\n",
    "print(np.exp(arr)) #exponential of array"
   ]
  },
  {
   "cell_type": "code",
   "execution_count": 10,
   "id": "54be7b51",
   "metadata": {
    "scrolled": true
   },
   "outputs": [
    {
     "name": "stdout",
     "output_type": "stream",
     "text": [
      "[ 0.66639624 -0.3971186   0.11542991 -0.00297773 -0.18307832  0.65965097\n",
      "  0.57371737  0.31668636  0.82031099 -0.37127821]\n"
     ]
    }
   ],
   "source": [
    "x = np.random.randn(10)\n",
    "y = np.random.randn(10)\n",
    "#new array that has element-wise maximum of x and y\n",
    "z = np.maximum(x,y)\n",
    "print(z)"
   ]
  },
  {
   "cell_type": "code",
   "execution_count": 11,
   "id": "74d76785",
   "metadata": {
    "scrolled": true
   },
   "outputs": [
    {
     "name": "stdout",
     "output_type": "stream",
     "text": [
      "Array:\n",
      " [ 2.07758793 -7.93682308 -0.93343045 -7.55386033  6.42228317  3.39034702\n",
      " -4.70031783  3.62168415  2.57070038  1.99983543]\n",
      "\n",
      "\n",
      "Remainder:\n",
      " [ 0.07758793 -0.93682308 -0.93343045 -0.55386033  0.42228317  0.39034702\n",
      " -0.70031783  0.62168415  0.57070038  0.99983543]\n",
      "\n",
      "\n",
      "Whole:\n",
      " [ 2. -7. -0. -7.  6.  3. -4.  3.  2.  1.]\n"
     ]
    }
   ],
   "source": [
    "#getting remainder and whole parts of elements in array\n",
    "arr = np.random.randn(10)*5\n",
    "print(\"Array:\\n\", arr)\n",
    "print(\"\\n\")\n",
    "remainder, whole = np.modf(arr)\n",
    "print(\"Remainder:\\n\", remainder)\n",
    "print(\"\\n\")\n",
    "print(\"Whole:\\n\", whole)"
   ]
  },
  {
   "cell_type": "code",
   "execution_count": 34,
   "id": "da3194f1",
   "metadata": {},
   "outputs": [
    {
     "name": "stderr",
     "output_type": "stream",
     "text": [
      "C:\\Users\\Abdul-Rahman\\AppData\\Local\\Temp\\ipykernel_10176\\2070219295.py:2: RuntimeWarning: invalid value encountered in sqrt\n",
      "  y = np.sqrt(x)\n"
     ]
    },
    {
     "data": {
      "text/plain": [
       "array([ True,  True,  True,  True,  True, False, False, False, False,\n",
       "       False])"
      ]
     },
     "execution_count": 34,
     "metadata": {},
     "output_type": "execute_result"
    }
   ],
   "source": [
    "x = np.arange(-5,5)\n",
    "y = np.sqrt(x)\n",
    "#checks if value in array is datatype nan\n",
    "np.isnan(y)"
   ]
  },
  {
   "cell_type": "code",
   "execution_count": 38,
   "id": "daf567a7",
   "metadata": {},
   "outputs": [
    {
     "data": {
      "text/plain": [
       "array([False, False, False, False, False,  True,  True, False, False,\n",
       "       False])"
      ]
     },
     "execution_count": 38,
     "metadata": {},
     "output_type": "execute_result"
    }
   ],
   "source": [
    "np.greater(x,y) #checks if x is greater than y\n",
    "np.less_equal(x,y) #checks if x is less than or equal to y"
   ]
  },
  {
   "cell_type": "markdown",
   "id": "cd4ba567",
   "metadata": {},
   "source": [
    "## Array-Oriented Programming with Arrays"
   ]
  },
  {
   "cell_type": "code",
   "execution_count": 52,
   "id": "5da40bf4",
   "metadata": {},
   "outputs": [
    {
     "name": "stdout",
     "output_type": "stream",
     "text": [
      "Magnitude:\n",
      " 10.0\n"
     ]
    }
   ],
   "source": [
    "#Finding magnitude of two vectors\n",
    "x1 = np.array([0,6])\n",
    "x2 = np.array([8,0])\n",
    "x3 = x1 - x2\n",
    "print(\"Magnitude:\\n\", np.sqrt(x3.dot(x3)))"
   ]
  },
  {
   "cell_type": "code",
   "execution_count": 56,
   "id": "24e8984f",
   "metadata": {},
   "outputs": [
    {
     "name": "stdout",
     "output_type": "stream",
     "text": [
      "xs:\n",
      " [[-5.   -4.99 -4.98 ...  4.97  4.98  4.99]\n",
      " [-5.   -4.99 -4.98 ...  4.97  4.98  4.99]\n",
      " [-5.   -4.99 -4.98 ...  4.97  4.98  4.99]\n",
      " ...\n",
      " [-5.   -4.99 -4.98 ...  4.97  4.98  4.99]\n",
      " [-5.   -4.99 -4.98 ...  4.97  4.98  4.99]\n",
      " [-5.   -4.99 -4.98 ...  4.97  4.98  4.99]]\n",
      "\n",
      "\n",
      "ys:\n",
      " [[-5.   -5.   -5.   ... -5.   -5.   -5.  ]\n",
      " [-4.99 -4.99 -4.99 ... -4.99 -4.99 -4.99]\n",
      " [-4.98 -4.98 -4.98 ... -4.98 -4.98 -4.98]\n",
      " ...\n",
      " [ 4.97  4.97  4.97 ...  4.97  4.97  4.97]\n",
      " [ 4.98  4.98  4.98 ...  4.98  4.98  4.98]\n",
      " [ 4.99  4.99  4.99 ...  4.99  4.99  4.99]]\n"
     ]
    }
   ],
   "source": [
    "points = np.arange(-5,5,0.01) #1000 equally spaced points\n",
    "xs, ys = np.meshgrid(points, points)\n",
    "print(\"xs:\\n\", xs)\n",
    "print(\"\\n\")\n",
    "print(\"ys:\\n\", ys)"
   ]
  },
  {
   "cell_type": "markdown",
   "id": "31c8bc45",
   "metadata": {},
   "source": [
    "## Expressing Conditional Logic as Array Operations"
   ]
  },
  {
   "cell_type": "code",
   "execution_count": 59,
   "id": "98868f13",
   "metadata": {},
   "outputs": [
    {
     "name": "stdout",
     "output_type": "stream",
     "text": [
      "Array:\n",
      " [  1.08953995  -0.48935895  -4.14886057   2.32642039  -0.96205388\n",
      "   0.59733507  -0.95487062 -11.18808335   1.65066189   2.11926738]\n",
      "\n",
      "\n",
      "New array:\n",
      " [1.08953995 0.         0.         2.32642039 0.         0.59733507\n",
      " 0.         0.         1.65066189 2.11926738]\n"
     ]
    }
   ],
   "source": [
    "arr = np.random.randn(10)*5\n",
    "print(\"Array:\\n\", arr)\n",
    "print(\"\\n\")\n",
    "print(\"New array:\\n\", np.where(arr<0, 0, arr))"
   ]
  },
  {
   "cell_type": "markdown",
   "id": "2dab1e4a",
   "metadata": {},
   "source": [
    "arr1 = np.random.randn(10)*2\n",
    "arr2 = np.random.randn(10)*2\n",
    "print(\"Array 1:\\n\", arr1)\n",
    "print(\"Array 2:\\n\", arr2)\n",
    "print(\"New array:\\n\", np.where(arr1>arr2, arr1, arr2)) #this is the same as the np.maximum(arr1,arr2)"
   ]
  },
  {
   "cell_type": "markdown",
   "id": "f0248004",
   "metadata": {},
   "source": [
    "## Mathematical and Statistical Methods\n"
   ]
  },
  {
   "cell_type": "code",
   "execution_count": 72,
   "id": "75218d13",
   "metadata": {},
   "outputs": [
    {
     "name": "stdout",
     "output_type": "stream",
     "text": [
      "Mean: -0.3689152559076695\n",
      "Median: -0.07220079767485349\n",
      "Sum: -3.6891525590766947\n"
     ]
    }
   ],
   "source": [
    "arr = np.random.randn(10)*2\n",
    "print(\"Mean:\", arr.mean())\n",
    "print(\"Median:\", np.median(arr))\n",
    "print(\"Sum:\", np.sum(arr))"
   ]
  },
  {
   "cell_type": "code",
   "execution_count": 87,
   "id": "13c421fc",
   "metadata": {},
   "outputs": [
    {
     "name": "stdout",
     "output_type": "stream",
     "text": [
      "Mean of columns only: [-0.33087634 -0.34802801  0.20394813]\n",
      "Mean of rows only: [-0.26323663  0.55804957 -0.76976916]\n"
     ]
    }
   ],
   "source": [
    "arr_2D = np.random.randn(3,3)\n",
    "print(\"Mean of columns only:\", np.mean(arr_2D, axis=0))\n",
    "print(\"Mean of rows only:\", arr_2D.mean(axis=1))"
   ]
  },
  {
   "cell_type": "code",
   "execution_count": 91,
   "id": "f3fa716f",
   "metadata": {},
   "outputs": [
    {
     "name": "stdout",
     "output_type": "stream",
     "text": [
      "Array:\n",
      " [0 1 2 3 4]\n",
      "Cumulative sum: [ 0  1  3  6 10]\n",
      "\n",
      "\n",
      "Array:\n",
      " [[0 1 2]\n",
      " [3 4 5]\n",
      " [6 7 8]]\n",
      "\n",
      "\n",
      "Cumulative sum on each colum:\n",
      " [[ 0  1  2]\n",
      " [ 3  5  7]\n",
      " [ 9 12 15]]\n",
      "\n",
      "\n",
      "Cumulative sum on each row:\n",
      " [[ 0  1  3]\n",
      " [ 3  7 12]\n",
      " [ 6 13 21]]\n"
     ]
    }
   ],
   "source": [
    "arr = np.arange(5) #1D array\n",
    "print(\"Array:\\n\", arr)\n",
    "print(\"Cumulative sum:\", np.cumsum(arr))\n",
    "print(\"\\n\")\n",
    "arr = np.arange(9).reshape(3,3) #2D array\n",
    "print(\"Array:\\n\", arr)\n",
    "print(\"\\n\")\n",
    "print(\"Cumulative sum on each colum:\\n\", np.cumsum(arr, axis=0))\n",
    "print(\"\\n\")\n",
    "print(\"Cumulative sum on each row:\\n\", np.cumsum(arr, axis=1))"
   ]
  },
  {
   "cell_type": "markdown",
   "id": "99a54c77",
   "metadata": {},
   "source": [
    "## Methods for Boolean Arrays"
   ]
  },
  {
   "cell_type": "code",
   "execution_count": 100,
   "id": "e38fadc5",
   "metadata": {},
   "outputs": [
    {
     "data": {
      "text/plain": [
       "4"
      ]
     },
     "execution_count": 100,
     "metadata": {},
     "output_type": "execute_result"
    }
   ],
   "source": [
    "arr = np.random.randn(10)\n",
    "(arr>0).sum() #number of positive values"
   ]
  },
  {
   "cell_type": "code",
   "execution_count": 105,
   "id": "3a4bab94",
   "metadata": {},
   "outputs": [
    {
     "data": {
      "text/plain": [
       "True"
      ]
     },
     "execution_count": 105,
     "metadata": {},
     "output_type": "execute_result"
    }
   ],
   "source": [
    "boo = np.array([True, False, True, True, False])\n",
    "boo.all() #checks if all values are true\n",
    "boo.any() #checks if any value is true"
   ]
  },
  {
   "cell_type": "markdown",
   "id": "140b5a07",
   "metadata": {},
   "source": [
    "## Sorting"
   ]
  },
  {
   "cell_type": "code",
   "execution_count": null,
   "id": "3860f47c",
   "metadata": {},
   "outputs": [],
   "source": []
  }
 ],
 "metadata": {
  "kernelspec": {
   "display_name": "Python 3 (ipykernel)",
   "language": "python",
   "name": "python3"
  },
  "language_info": {
   "codemirror_mode": {
    "name": "ipython",
    "version": 3
   },
   "file_extension": ".py",
   "mimetype": "text/x-python",
   "name": "python",
   "nbconvert_exporter": "python",
   "pygments_lexer": "ipython3",
   "version": "3.10.2"
  }
 },
 "nbformat": 4,
 "nbformat_minor": 5
}
